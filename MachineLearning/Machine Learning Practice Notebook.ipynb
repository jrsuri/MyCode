{
 "cells": [
  {
   "cell_type": "markdown",
   "id": "b3d3fcfd",
   "metadata": {},
   "source": [
    "# Machine Learning Practice Notebook"
   ]
  },
  {
   "cell_type": "code",
   "execution_count": 1,
   "id": "0877ce08",
   "metadata": {},
   "outputs": [],
   "source": [
    "import pandas as pd\n",
    "import numpy as np\n",
    "import matplotlib.pyplot as plt\n",
    "import seaborn as sns\n",
    "import warnings\n",
    "from sklearn.ensemble import RandomForestClassifier\n",
    "from sklearn.model_selection import train_test_split\n",
    "from sklearn.metrics import accuracy_score, precision_score, recall_score, f1_score, matthews_corrcoef, confusion_matrix\n",
    "from sklearn.preprocessing import StandardScaler\n",
    "from sklearn.neural_network import MLPClassifier\n",
    "from xgboost import XGBClassifier\n",
    "\n",
    "warnings.filterwarnings('ignore')"
   ]
  },
  {
   "cell_type": "markdown",
   "id": "50c1385a",
   "metadata": {},
   "source": [
    "## Data Generation"
   ]
  },
  {
   "cell_type": "code",
   "execution_count": 2,
   "id": "7e972125",
   "metadata": {},
   "outputs": [
    {
     "data": {
      "text/html": [
       "<div>\n",
       "<style scoped>\n",
       "    .dataframe tbody tr th:only-of-type {\n",
       "        vertical-align: middle;\n",
       "    }\n",
       "\n",
       "    .dataframe tbody tr th {\n",
       "        vertical-align: top;\n",
       "    }\n",
       "\n",
       "    .dataframe thead th {\n",
       "        text-align: right;\n",
       "    }\n",
       "</style>\n",
       "<table border=\"1\" class=\"dataframe\">\n",
       "  <thead>\n",
       "    <tr style=\"text-align: right;\">\n",
       "      <th></th>\n",
       "      <th>Age</th>\n",
       "      <th>Annual_Salary</th>\n",
       "      <th>Credit_Score</th>\n",
       "      <th>Stable_Employment</th>\n",
       "      <th>Own_House</th>\n",
       "      <th>Approved</th>\n",
       "    </tr>\n",
       "  </thead>\n",
       "  <tbody>\n",
       "    <tr>\n",
       "      <th>0</th>\n",
       "      <td>56</td>\n",
       "      <td>25287.109403</td>\n",
       "      <td>0.543064</td>\n",
       "      <td>0</td>\n",
       "      <td>1</td>\n",
       "      <td>0</td>\n",
       "    </tr>\n",
       "    <tr>\n",
       "      <th>1</th>\n",
       "      <td>46</td>\n",
       "      <td>54387.026600</td>\n",
       "      <td>0.747804</td>\n",
       "      <td>0</td>\n",
       "      <td>0</td>\n",
       "      <td>1</td>\n",
       "    </tr>\n",
       "    <tr>\n",
       "      <th>2</th>\n",
       "      <td>32</td>\n",
       "      <td>28511.959349</td>\n",
       "      <td>0.228517</td>\n",
       "      <td>0</td>\n",
       "      <td>1</td>\n",
       "      <td>0</td>\n",
       "    </tr>\n",
       "    <tr>\n",
       "      <th>3</th>\n",
       "      <td>60</td>\n",
       "      <td>21342.036699</td>\n",
       "      <td>0.683238</td>\n",
       "      <td>0</td>\n",
       "      <td>0</td>\n",
       "      <td>0</td>\n",
       "    </tr>\n",
       "    <tr>\n",
       "      <th>4</th>\n",
       "      <td>25</td>\n",
       "      <td>83076.064871</td>\n",
       "      <td>0.371736</td>\n",
       "      <td>0</td>\n",
       "      <td>1</td>\n",
       "      <td>0</td>\n",
       "    </tr>\n",
       "  </tbody>\n",
       "</table>\n",
       "</div>"
      ],
      "text/plain": [
       "   Age  Annual_Salary  Credit_Score  Stable_Employment  Own_House  Approved\n",
       "0   56   25287.109403      0.543064                  0          1         0\n",
       "1   46   54387.026600      0.747804                  0          0         1\n",
       "2   32   28511.959349      0.228517                  0          1         0\n",
       "3   60   21342.036699      0.683238                  0          0         0\n",
       "4   25   83076.064871      0.371736                  0          1         0"
      ]
     },
     "execution_count": 2,
     "metadata": {},
     "output_type": "execute_result"
    }
   ],
   "source": [
    "# Set random seed for reproducibility\n",
    "np.random.seed(42)\n",
    "\n",
    "# Number of records\n",
    "n = 1000\n",
    "\n",
    "# Generate random data\n",
    "age = np.random.randint(18, 65, n)\n",
    "annual_salary = np.random.randint(20_000, 120_000, n)\n",
    "credit_score = np.round(np.random.uniform(0, 1, n), 2)\n",
    "stable_employment = np.random.randint(0, 2, n)\n",
    "own_house = np.random.randint(0, 2, n)\n",
    "\n",
    "# Generate the target column (Approved) with some arbitrary logic\n",
    "approved = np.where((annual_salary > 50_000) & (credit_score > 0.6), 1, 0)\n",
    "\n",
    "# Create the DataFrame\n",
    "df = pd.DataFrame({\n",
    "    'Age': age,\n",
    "    'Annual_Salary': annual_salary,\n",
    "    'Credit_Score': credit_score,\n",
    "    'Stable_Employment': stable_employment,\n",
    "    'Own_House': own_house,\n",
    "    'Approved': approved\n",
    "})\n",
    "\n",
    "# Add Gaussian noise to numeric features\n",
    "noise_scale = 0.05  # Standard deviation of the noise\n",
    "noisy_columns = ['Annual_Salary', 'Credit_Score']\n",
    "for col in noisy_columns:\n",
    "    noise = np.random.normal(0, noise_scale, n)\n",
    "    df[col] += noise\n",
    "\n",
    "# Flip some labels in the Approved column (approximately 1%)\n",
    "flip_rate = 0.01\n",
    "n_flip = int(n * flip_rate)\n",
    "flip_indices = np.random.choice(df.index, size=n_flip, replace=False)\n",
    "df.loc[flip_indices, 'Approved'] = 1 - df.loc[flip_indices, 'Approved']\n",
    "\n",
    "df.head()"
   ]
  },
  {
   "cell_type": "markdown",
   "id": "fba7fc6a",
   "metadata": {},
   "source": [
    "## Exploratory Data Analysis (EDA)"
   ]
  },
  {
   "cell_type": "code",
   "execution_count": 3,
   "id": "4130ce76",
   "metadata": {},
   "outputs": [
    {
     "data": {
      "image/png": "[encoded data removed]",
      "text/plain": [
       "<Figure size 864x576 with 5 Axes>"
      ]
     },
     "metadata": {
      "needs_background": "light"
     },
     "output_type": "display_data"
    },
    {
     "name": "stdout",
     "output_type": "stream",
     "text": [
      "Descriptive Statistics:\n",
      "               Age  Annual_Salary  Credit_Score  Stable_Employment  \\\n",
      "count  1000.000000    1000.000000   1000.000000        1000.000000   \n",
      "mean     40.986000   69404.683088      0.491725           0.488000   \n",
      "std      13.497852   28581.017516      0.288317           0.500106   \n",
      "min      18.000000   20060.067456     -0.133512           0.000000   \n",
      "25%      29.000000   45518.997333      0.244734           0.000000   \n",
      "50%      42.000000   68815.970277      0.493434           0.000000   \n",
      "75%      52.000000   94672.269800      0.730649           1.000000   \n",
      "max      64.000000  119986.046210      1.061940           1.000000   \n",
      "\n",
      "         Own_House     Approved  \n",
      "count  1000.000000  1000.000000  \n",
      "mean      0.479000     0.281000  \n",
      "std       0.499809     0.449712  \n",
      "min       0.000000     0.000000  \n",
      "25%       0.000000     0.000000  \n",
      "50%       0.000000     0.000000  \n",
      "75%       1.000000     1.000000  \n",
      "max       1.000000     1.000000  \n",
      "\n",
      "Class Distribution:\n",
      "0    71.9\n",
      "1    28.1\n",
      "Name: Approved, dtype: float64\n",
      "\n",
      "Correlation Matrix:\n",
      "                        Age  Annual_Salary  Credit_Score  Stable_Employment  \\\n",
      "Age                1.000000      -0.023358      0.017340          -0.033538   \n",
      "Annual_Salary     -0.023358       1.000000     -0.007341          -0.049938   \n",
      "Credit_Score       0.017340      -0.007341      1.000000          -0.012498   \n",
      "Stable_Employment -0.033538      -0.049938     -0.012498           1.000000   \n",
      "Own_House         -0.029274       0.001919     -0.021760          -0.015026   \n",
      "Approved           0.007245       0.296481      0.626222          -0.045078   \n",
      "\n",
      "                   Own_House  Approved  \n",
      "Age                -0.029274  0.007245  \n",
      "Annual_Salary       0.001919  0.296481  \n",
      "Credit_Score       -0.021760  0.626222  \n",
      "Stable_Employment  -0.015026 -0.045078  \n",
      "Own_House           1.000000 -0.024935  \n",
      "Approved           -0.024935  1.000000  \n"
     ]
    }
   ],
   "source": [
    "# Descriptive statistics\n",
    "desc_stats = df.describe()\n",
    "\n",
    "# Class distribution\n",
    "class_dist = df['Approved'].value_counts(normalize=True) * 100\n",
    "\n",
    "# Plots\n",
    "plt.figure(figsize=(12, 8))\n",
    "\n",
    "# Histograms for the features\n",
    "for i, col in enumerate(df.columns[:-1], 1):\n",
    "    plt.subplot(2, 3, i)\n",
    "    sns.histplot(df[col], bins=20, kde=True)\n",
    "    plt.title(f'Distribution of {col}')\n",
    "\n",
    "plt.tight_layout()\n",
    "plt.show()\n",
    "\n",
    "# Correlation matrix\n",
    "correlation_matrix = df.corr()\n",
    "\n",
    "# Display the outputs\n",
    "print(\"Descriptive Statistics:\")\n",
    "print(desc_stats)\n",
    "print(\"\\nClass Distribution:\")\n",
    "print(class_dist)\n",
    "print(\"\\nCorrelation Matrix:\")\n",
    "print(correlation_matrix)"
   ]
  },
  {
   "cell_type": "code",
   "execution_count": 4,
   "id": "ab93a9e0",
   "metadata": {},
   "outputs": [
    {
     "name": "stdout",
     "output_type": "stream",
     "text": [
      "\n",
      "Descriptive Statistics for Rejected Cases:\n",
      "              Age  Annual_Salary  Credit_Score  Stable_Employment   Own_House  \\\n",
      "count  719.000000     719.000000    719.000000         719.000000  719.000000   \n",
      "mean    40.924896   64109.928672      0.378909           0.502086    0.486787   \n",
      "std     13.542770   29595.982716      0.250796           0.500344    0.500173   \n",
      "min     18.000000   20060.067456     -0.133512           0.000000    0.000000   \n",
      "25%     29.500000   39232.982297      0.175520           0.000000    0.000000   \n",
      "50%     42.000000   58709.007449      0.363196           1.000000    0.000000   \n",
      "75%     52.000000   90918.099246      0.542904           1.000000    1.000000   \n",
      "max     64.000000  119928.956086      1.061940           1.000000    1.000000   \n",
      "\n",
      "       Approved  \n",
      "count     719.0  \n",
      "mean        0.0  \n",
      "std         0.0  \n",
      "min         0.0  \n",
      "25%         0.0  \n",
      "50%         0.0  \n",
      "75%         0.0  \n",
      "max         0.0  \n",
      "\n",
      "Correlation Matrix for Rejected Cases:\n",
      "                        Age  Annual_Salary  Credit_Score  Stable_Employment  \\\n",
      "Age                1.000000      -0.039286      0.009341          -0.020531   \n",
      "Annual_Salary     -0.039286       1.000000     -0.301648          -0.056305   \n",
      "Credit_Score       0.009341      -0.301648      1.000000           0.012035   \n",
      "Stable_Employment -0.020531      -0.056305      0.012035           1.000000   \n",
      "Own_House          0.006844       0.006466     -0.012177          -0.037455   \n",
      "Approved                NaN            NaN           NaN                NaN   \n",
      "\n",
      "                   Own_House  Approved  \n",
      "Age                 0.006844       NaN  \n",
      "Annual_Salary       0.006466       NaN  \n",
      "Credit_Score       -0.012177       NaN  \n",
      "Stable_Employment  -0.037455       NaN  \n",
      "Own_House           1.000000       NaN  \n",
      "Approved                 NaN       NaN  \n",
      "\n",
      "Descriptive Statistics for Approved Cases:\n",
      "              Age  Annual_Salary  Credit_Score  Stable_Employment   Own_House  \\\n",
      "count  281.000000     281.000000    281.000000         281.000000  281.000000   \n",
      "mean    41.142349   82952.471080      0.780389           0.451957    0.459075   \n",
      "std     13.404997   20302.475469      0.137795           0.498574    0.499211   \n",
      "min     18.000000   33858.959720      0.123942           0.000000    0.000000   \n",
      "25%     29.000000   65084.080415      0.681548           0.000000    0.000000   \n",
      "50%     41.000000   83230.033857      0.785088           0.000000    0.000000   \n",
      "75%     53.000000   99082.961427      0.886229           1.000000    1.000000   \n",
      "max     64.000000  119986.046210      1.060545           1.000000    1.000000   \n",
      "\n",
      "       Approved  \n",
      "count     281.0  \n",
      "mean        1.0  \n",
      "std         0.0  \n",
      "min         1.0  \n",
      "25%         1.0  \n",
      "50%         1.0  \n",
      "75%         1.0  \n",
      "max         1.0  \n",
      "\n",
      "Correlation Matrix for Approved Cases:\n",
      "                        Age  Annual_Salary  Credit_Score  Stable_Employment  \\\n",
      "Age                1.000000       0.019371      0.052195          -0.066304   \n",
      "Annual_Salary      0.019371       1.000000      0.023956           0.026957   \n",
      "Credit_Score       0.052195       0.023956      1.000000           0.061423   \n",
      "Stable_Employment -0.066304       0.026957      0.061423           1.000000   \n",
      "Own_House         -0.122409       0.022608      0.011008           0.038707   \n",
      "Approved                NaN            NaN           NaN                NaN   \n",
      "\n",
      "                   Own_House  Approved  \n",
      "Age                -0.122409       NaN  \n",
      "Annual_Salary       0.022608       NaN  \n",
      "Credit_Score        0.011008       NaN  \n",
      "Stable_Employment   0.038707       NaN  \n",
      "Own_House           1.000000       NaN  \n",
      "Approved                 NaN       NaN  \n"
     ]
    }
   ],
   "source": [
    "# Specific analysis for rejected cases\n",
    "rejected_df = df[df['Approved'] == 0]\n",
    "\n",
    "# Descriptive statistics for rejected cases\n",
    "desc_stats_rejected = rejected_df.describe()\n",
    "\n",
    "# Correlation matrix for rejected cases\n",
    "correlation_matrix_rejected = rejected_df.corr()\n",
    "\n",
    "# Specific analysis for approved cases\n",
    "approved_df = df[df['Approved'] == 1]\n",
    "\n",
    "# Descriptive statistics for approved cases\n",
    "desc_stats_approved = approved_df.describe()\n",
    "\n",
    "# Correlation matrix for approved cases\n",
    "correlation_matrix_approved = approved_df.corr()\n",
    "\n",
    "# Display the additional outputs\n",
    "print(\"\\nDescriptive Statistics for Rejected Cases:\")\n",
    "print(desc_stats_rejected)\n",
    "print(\"\\nCorrelation Matrix for Rejected Cases:\")\n",
    "print(correlation_matrix_rejected)\n",
    "print(\"\\nDescriptive Statistics for Approved Cases:\")\n",
    "print(desc_stats_approved)\n",
    "print(\"\\nCorrelation Matrix for Approved Cases:\")\n",
    "print(correlation_matrix_approved)"
   ]
  },
  {
   "cell_type": "markdown",
   "id": "37da1cfe",
   "metadata": {},
   "source": [
    "## Random Forest Model for Feature Importance"
   ]
  },
  {
   "cell_type": "code",
   "execution_count": 5,
   "id": "04c9da0b",
   "metadata": {},
   "outputs": [
    {
     "data": {
      "text/plain": [
       "(0.955,\n",
       "              Feature  Importance\n",
       " 2       Credit_Score    0.612293\n",
       " 1      Annual_Salary    0.330566\n",
       " 0                Age    0.045096\n",
       " 3  Stable_Employment    0.006760\n",
       " 4          Own_House    0.005285)"
      ]
     },
     "execution_count": 5,
     "metadata": {},
     "output_type": "execute_result"
    }
   ],
   "source": [
    "# Separate features and target variable\n",
    "X = df.drop('Approved', axis=1)\n",
    "y = df['Approved']\n",
    "\n",
    "# Split data into training and test sets\n",
    "X_train, X_test, y_train, y_test = train_test_split(X, y, test_size=0.2, random_state=42)\n",
    "\n",
    "# Create Random Forest model\n",
    "rf_model = RandomForestClassifier(random_state=42)\n",
    "\n",
    "# Train the model\n",
    "rf_model.fit(X_train, y_train)\n",
    "\n",
    "# Make predictions on test set\n",
    "y_pred = rf_model.predict(X_test)\n",
    "\n",
    "# Evaluate the model\n",
    "accuracy = accuracy_score(y_test, y_pred)\n",
    "\n",
    "# Feature importance\n",
    "feature_importance = pd.DataFrame({\n",
    "    'Feature': X.columns,\n",
    "    'Importance': rf_model.feature_importances_\n",
    "}).sort_values(by='Importance', ascending=False)\n",
    "\n",
    "accuracy, feature_importance"
   ]
  },
  {
   "cell_type": "markdown",
   "id": "c8b9a80a",
   "metadata": {},
   "source": [
    "## Neural Network Model"
   ]
  },
  {
   "cell_type": "code",
   "execution_count": 6,
   "id": "931a3b4e",
   "metadata": {},
   "outputs": [
    {
     "data": {
      "text/plain": [
       "0.97"
      ]
     },
     "execution_count": 6,
     "metadata": {},
     "output_type": "execute_result"
    }
   ],
   "source": [
    "# Remove less important features\n",
    "X_reduced = X.drop(['Age', 'Own_House', 'Stable_Employment'], axis=1)\n",
    "\n",
    "# Split data into training and test sets (70/30)\n",
    "X_train, X_test, y_train, y_test = train_test_split(X_reduced, y, test_size=0.3, random_state=42)\n",
    "\n",
    "# Scale the data\n",
    "scaler = StandardScaler()\n",
    "\n",
    "# Fit on training set and transform both sets\n",
    "X_train_scaled = scaler.fit_transform(X_train)\n",
    "X_test_scaled = scaler.transform(X_test)\n",
    "\n",
    "# Create Neural Network model\n",
    "nn_model = MLPClassifier(hidden_layer_sizes=(10, 10), max_iter=500, random_state=42)\n",
    "\n",
    "# Train the model\n",
    "nn_model.fit(X_train_scaled, y_train)\n",
    "\n",
    "# Make predictions on test set\n",
    "y_pred_nn = nn_model.predict(X_test_scaled)\n",
    "\n",
    "# Evaluate the model\n",
    "accuracy_nn = accuracy_score(y_test, y_pred_nn)\n",
    "\n",
    "accuracy_nn"
   ]
  },
  {
   "cell_type": "markdown",
   "id": "0a1ea6b0",
   "metadata": {},
   "source": [
    "## XGBoost Model and Confusion Matrices"
   ]
  },
  {
   "cell_type": "code",
   "execution_count": 7,
   "id": "d5ebdda9",
   "metadata": {},
   "outputs": [
    {
     "data": {
      "image/png": "[encoded data removed]",
      "text/plain": [
       "<Figure size 1008x432 with 4 Axes>"
      ]
     },
     "metadata": {
      "needs_background": "light"
     },
     "output_type": "display_data"
    },
    {
     "data": {
      "text/plain": [
       "0.9566666666666667"
      ]
     },
     "execution_count": 7,
     "metadata": {},
     "output_type": "execute_result"
    }
   ],
   "source": [
    "# Create XGBoost model\n",
    "xgb_model = XGBClassifier(random_state=42, use_label_encoder=False, eval_metric='logloss')\n",
    "\n",
    "# Train XGBoost model\n",
    "xgb_model.fit(X_train_scaled, y_train)\n",
    "\n",
    "# Make predictions on test set\n",
    "y_pred_xgb = xgb_model.predict(X_test_scaled)\n",
    "\n",
    "# Evaluate XGBoost model\n",
    "accuracy_xgb = accuracy_score(y_test, y_pred_xgb)\n",
    "\n",
    "# Confusion matrices\n",
    "cm_nn = confusion_matrix(y_test, y_pred_nn)\n",
    "cm_xgb = confusion_matrix(y_test, y_pred_xgb)\n",
    "\n",
    "# Plot confusion matrices\n",
    "fig, ax = plt.subplots(1, 2, figsize=(14, 6))\n",
    "\n",
    "sns.heatmap(cm_nn, annot=True, fmt='g', cmap='Blues', ax=ax[0])\n",
    "ax[0].set_title('Confusion Matrix - Neural Network')\n",
    "ax[0].set_xlabel('Predicted')\n",
    "ax[0].set_ylabel('Actual')\n",
    "\n",
    "sns.heatmap(cm_xgb, annot=True, fmt='g', cmap='Blues', ax=ax[1])\n",
    "ax[1].set_title('Confusion Matrix - XGBoost')\n",
    "ax[1].set_xlabel('Predicted')\n",
    "ax[1].set_ylabel('Actual')\n",
    "\n",
    "plt.tight_layout()\n",
    "plt.show()\n",
    "\n",
    "accuracy_xgb"
   ]
  },
  {
   "cell_type": "markdown",
   "id": "4f8356b7",
   "metadata": {},
   "source": [
    "## Performance Metrics"
   ]
  },
  {
   "cell_type": "code",
   "execution_count": 8,
   "id": "288f61c0",
   "metadata": {},
   "outputs": [
    {
     "data": {
      "text/plain": [
       "({'Accuracy': 0.97,\n",
       "  'Precision': 0.9506172839506173,\n",
       "  'Recall': 0.9390243902439024,\n",
       "  'F1 Score': 0.9447852760736196,\n",
       "  'MCC': 0.924224162083538},\n",
       " {'Accuracy': 0.9566666666666667,\n",
       "  'Precision': 0.9259259259259259,\n",
       "  'Recall': 0.9146341463414634,\n",
       "  'F1 Score': 0.9202453987730062,\n",
       "  'MCC': 0.8905302443991218})"
      ]
     },
     "execution_count": 8,
     "metadata": {},
     "output_type": "execute_result"
    }
   ],
   "source": [
    "# Metrics for Neural Network model\n",
    "accuracy_nn = accuracy_score(y_test, y_pred_nn)\n",
    "precision_nn = precision_score(y_test, y_pred_nn)\n",
    "recall_nn = recall_score(y_test, y_pred_nn)\n",
    "f1_nn = f1_score(y_test, y_pred_nn)\n",
    "mcc_nn = matthews_corrcoef(y_test, y_pred_nn)\n",
    "\n",
    "# Metrics for XGBoost model\n",
    "accuracy_xgb = accuracy_score(y_test, y_pred_xgb)\n",
    "precision_xgb = precision_score(y_test, y_pred_xgb)\n",
    "recall_xgb = recall_score(y_test, y_pred_xgb)\n",
    "f1_xgb = f1_score(y_test, y_pred_xgb)\n",
    "mcc_xgb = matthews_corrcoef(y_test, y_pred_xgb)\n",
    "\n",
    "metrics_nn = {\n",
    "    'Accuracy': accuracy_nn,\n",
    "    'Precision': precision_nn,\n",
    "    'Recall': recall_nn,\n",
    "    'F1 Score': f1_nn,\n",
    "    'MCC': mcc_nn\n",
    "}\n",
    "\n",
    "metrics_xgb = {\n",
    "    'Accuracy': accuracy_xgb,\n",
    "    'Precision': precision_xgb,\n",
    "    'Recall': recall_xgb,\n",
    "    'F1 Score': f1_xgb,\n",
    "    'MCC': mcc_xgb\n",
    "}\n",
    "\n",
    "metrics_nn, metrics_xgb"
   ]
  }
 ],
 "metadata": {
  "kernelspec": {
   "display_name": "base",
   "language": "python",
   "name": "python3"
  },
  "language_info": {
   "codemirror_mode": {
    "name": "ipython",
    "version": 3
   },
   "file_extension": ".py",
   "mimetype": "text/x-python",
   "name": "python",
   "nbconvert_exporter": "python",
   "pygments_lexer": "ipython3",
   "version": "3.9.12"
  }
 },
 "nbformat": 4,
 "nbformat_minor": 5
}
